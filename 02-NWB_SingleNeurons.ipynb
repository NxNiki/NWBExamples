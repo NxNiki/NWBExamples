{
 "cells": [
  {
   "cell_type": "markdown",
   "id": "royal-peter",
   "metadata": {},
   "source": [
    "# NWB Single Neurons Example\n",
    "\n",
    "This example introduces using the NWB file format for spike related data. \n",
    "\n",
    "Adapted from: https://pynwb.readthedocs.io/en/stable/tutorials/domain/ecephys.html"
   ]
  },
  {
   "cell_type": "code",
   "execution_count": 1,
   "id": "directed-cannon",
   "metadata": {},
   "outputs": [],
   "source": [
    "%config Completer.use_jedi = False"
   ]
  },
  {
   "cell_type": "code",
   "execution_count": 1,
   "id": "relevant-corporation",
   "metadata": {},
   "outputs": [],
   "source": [
    "from datetime import datetime\n",
    "from dateutil.tz import tzlocal\n",
    "\n",
    "import numpy as np\n",
    "\n",
    "# Import pynwb utilities\n",
    "from pynwb import NWBFile, NWBHDF5IO\n",
    "from pynwb.file import Subject\n",
    "from pynwb.image import ImageSeries\n",
    "from pynwb.behavior import Position\n",
    "from pynwb.ecephys import ElectricalSeries, SpikeEventSeries"
   ]
  },
  {
   "cell_type": "markdown",
   "id": "obvious-indonesian",
   "metadata": {},
   "source": [
    "## Settings"
   ]
  },
  {
   "cell_type": "code",
   "execution_count": 2,
   "id": "third-zoning",
   "metadata": {},
   "outputs": [],
   "source": [
    "# Set path for data files\n",
    "data_path = 'data'"
   ]
  },
  {
   "cell_type": "code",
   "execution_count": 3,
   "id": "toxic-quick",
   "metadata": {},
   "outputs": [],
   "source": [
    "# Set random seed for consistency simulating data\n",
    "np.random.seed(1234)"
   ]
  },
  {
   "cell_type": "markdown",
   "id": "aggressive-aquarium",
   "metadata": {},
   "source": [
    "## Define Subject\n",
    "\n",
    "The `Subject` object takes the following information: \n",
    "- species\n",
    "- age\n",
    "- sex\n",
    "- description\n",
    "- subject_id\n",
    "\n",
    "The description can includes information such as the epilepsy diagnosis. "
   ]
  },
  {
   "cell_type": "code",
   "execution_count": 4,
   "id": "hollywood-contrary",
   "metadata": {},
   "outputs": [],
   "source": [
    "# Set subject information\n",
    "species = 'elf'\n",
    "age = 1000\n",
    "sex = 'Male'\n",
    "description = 'A magical being.'\n",
    "subject_id = '001'"
   ]
  },
  {
   "cell_type": "code",
   "execution_count": 5,
   "id": "thirty-nigeria",
   "metadata": {},
   "outputs": [],
   "source": [
    "# Create subject object\n",
    "subject = Subject(age=str(age),\n",
    "                  sex=sex,\n",
    "                  description=description, \n",
    "                  species=species,\n",
    "                  subject_id=subject_id)"
   ]
  },
  {
   "cell_type": "markdown",
   "id": "partial-mexico",
   "metadata": {},
   "source": [
    "## Initialize NWB File\n",
    "\n",
    "The NWBFile is initialized with the following session information:\n",
    "- identifier\n",
    "- experimenter\n",
    "- lab\n",
    "- institution\n",
    "- session_id\n",
    "- session_description\n",
    "- session_start_time"
   ]
  },
  {
   "cell_type": "code",
   "execution_count": 6,
   "id": "taken-mauritius",
   "metadata": {},
   "outputs": [],
   "source": [
    "# Define information for the NWB file\n",
    "session_desc = 'my first synthetic recording'\n",
    "identifier = 'EXAMPLE_ID'\n",
    "session_start_time = datetime.now(tzlocal())\n",
    "experimenter = 'Dr. Bilbo Baggins'\n",
    "lab = 'Bag End Laboratory'\n",
    "institution = 'University of Middle Earth at the Shire'\n",
    "experiment_desc = 'I went on an adventure with thirteen dwarves to reclaim vast treasures.'\n",
    "session_id = 'LONELYMTN'"
   ]
  },
  {
   "cell_type": "code",
   "execution_count": 7,
   "id": "tribal-candy",
   "metadata": {},
   "outputs": [],
   "source": [
    "# Initialize an NWB file with some metadata information\n",
    "nwbfile = NWBFile(session_desc, identifier, session_start_time,\n",
    "                  subject=subject, experimenter=experimenter,\n",
    "                  lab=lab, institution=institution,\n",
    "                  experiment_description=experiment_desc,\n",
    "                  session_id=session_id)"
   ]
  },
  {
   "cell_type": "markdown",
   "id": "herbal-concern",
   "metadata": {},
   "source": [
    "## Recording Equipment\n",
    "\n",
    "Metadata about the recording equipment is stored in the NWB file. \n",
    "\n",
    "This is done in hierarchical manner, in which:\n",
    "- `Device` stores general information about the recording device\n",
    "- `ElectrodeGroup` stores information about group(s) of electrodes\n",
    "- `Electrode` stores information about individual electrodes"
   ]
  },
  {
   "cell_type": "markdown",
   "id": "unnecessary-boring",
   "metadata": {},
   "source": [
    "#### Device\n",
    "\n",
    "A Device is initialized with the following information:\n",
    "- name\n",
    "- description\n",
    "- manufacturer"
   ]
  },
  {
   "cell_type": "code",
   "execution_count": 8,
   "id": "stone-armor",
   "metadata": {},
   "outputs": [],
   "source": [
    "# Define information for a device\n",
    "device_name = 'electrode_recorder'\n",
    "device_desc = 'some kind of elven invention'\n",
    "device_manu = 'Orc industries.'"
   ]
  },
  {
   "cell_type": "code",
   "execution_count": 9,
   "id": "indoor-quantity",
   "metadata": {},
   "outputs": [],
   "source": [
    "# Create a device\n",
    "device = nwbfile.create_device(name=device_name, description=device_desc, manufacturer=device_manu)"
   ]
  },
  {
   "cell_type": "markdown",
   "id": "respiratory-quest",
   "metadata": {},
   "source": [
    "#### Electrode Group\n",
    "\n",
    "An electrode group is defined with the following information:\n",
    "- name\n",
    "- description\n",
    "- location"
   ]
  },
  {
   "cell_type": "code",
   "execution_count": 10,
   "id": "scientific-racing",
   "metadata": {},
   "outputs": [],
   "source": [
    "# Define information for an electrode group\n",
    "electrode_name = 'tetrode1'\n",
    "description = \"an example tetrode\"\n",
    "location = \"somewhere in the hippocampus\""
   ]
  },
  {
   "cell_type": "code",
   "execution_count": 11,
   "id": "sought-vitamin",
   "metadata": {},
   "outputs": [],
   "source": [
    "# Create an electrode group\n",
    "electrode_group = nwbfile.create_electrode_group(electrode_name,\n",
    "                                                 description=description,\n",
    "                                                 location=location,\n",
    "                                                 device=device)"
   ]
  },
  {
   "cell_type": "markdown",
   "id": "obvious-travel",
   "metadata": {},
   "source": [
    "#### Electrodes\n",
    "\n",
    "Electrodes are defined with the following information:\n",
    "- id\n",
    "- position (x, y, z coordinates)\n",
    "- impedence\n",
    "- location\n",
    "- filtering\n",
    "- group"
   ]
  },
  {
   "cell_type": "code",
   "execution_count": 12,
   "id": "overall-guess",
   "metadata": {},
   "outputs": [],
   "source": [
    "# Define information for electrodes\n",
    "elec_ids = [1, 2, 3, 4]\n",
    "epos = {'x' : 1.0, 'y' : 2.0, 'z' : 3.0}\n",
    "impedence = np.inf\n",
    "filtering = 'none'\n",
    "location = 'CA1'"
   ]
  },
  {
   "cell_type": "code",
   "execution_count": 13,
   "id": "neither-university",
   "metadata": {},
   "outputs": [],
   "source": [
    "# Add a collection of electrodes\n",
    "for idx in elec_ids:\n",
    "    nwbfile.add_electrode(id=idx,\n",
    "                          x=epos['x'], y=epos['y'], z=epos['z'],\n",
    "                          imp=impedence,\n",
    "                          location=location, \n",
    "                          filtering=filtering,\n",
    "                          group=electrode_group)"
   ]
  },
  {
   "cell_type": "markdown",
   "id": "minimal-system",
   "metadata": {},
   "source": [
    "## Electrode Table"
   ]
  },
  {
   "cell_type": "code",
   "execution_count": 14,
   "id": "preceding-jurisdiction",
   "metadata": {},
   "outputs": [],
   "source": [
    "# Grab a sub-selection of electrodes\n",
    "electrode_table_region = nwbfile.create_electrode_table_region([0, 2], 'the first and third electrodes')"
   ]
  },
  {
   "cell_type": "code",
   "execution_count": 17,
   "id": "sensitive-botswana",
   "metadata": {},
   "outputs": [
    {
     "data": {
      "text/html": [
       "\n",
       "        <style>\n",
       "            .container-fields {\n",
       "                font-family: \"Open Sans\", Arial, sans-serif;\n",
       "            }\n",
       "            .container-fields .field-value {\n",
       "                color: #00788E;\n",
       "            }\n",
       "            .container-fields details > summary {\n",
       "                cursor: pointer;\n",
       "                display: list-item;\n",
       "            }\n",
       "            .container-fields details > summary:hover {\n",
       "                color: #0A6EAA;\n",
       "            }\n",
       "        </style>\n",
       "        \n",
       "        <script>\n",
       "            function copyToClipboard(text) {\n",
       "                navigator.clipboard.writeText(text).then(function() {\n",
       "                    console.log('Copied to clipboard: ' + text);\n",
       "                }, function(err) {\n",
       "                    console.error('Could not copy text: ', err);\n",
       "                });\n",
       "            }\n",
       "\n",
       "            document.addEventListener('DOMContentLoaded', function() {\n",
       "                let fieldKeys = document.querySelectorAll('.container-fields .field-key');\n",
       "                fieldKeys.forEach(function(fieldKey) {\n",
       "                    fieldKey.addEventListener('click', function() {\n",
       "                        let accessCode = fieldKey.getAttribute('title').replace('Access code: ', '');\n",
       "                        copyToClipboard(accessCode);\n",
       "                    });\n",
       "                });\n",
       "            });\n",
       "        </script>\n",
       "        <div class='container-wrap'><div class='container-header'><div class='xr-obj-type'><h3>electrodes (DynamicTable)</h3></div></div><div style=\"margin-left: 0px;\" class=\"container-fields\"><span class=\"field-key\" title=\"\">description: </span><span class=\"field-value\">metadata about extracellular electrodes</span></div><details><summary style=\"display: list-item; margin-left: 0px;\" class=\"container-fields field-key\" title=\"\"><b>table</b></summary><table border=\"1\" class=\"dataframe\">\n",
       "  <thead>\n",
       "    <tr style=\"text-align: right;\">\n",
       "      <th></th>\n",
       "      <th>location</th>\n",
       "      <th>group</th>\n",
       "      <th>group_name</th>\n",
       "      <th>x</th>\n",
       "      <th>y</th>\n",
       "      <th>z</th>\n",
       "      <th>imp</th>\n",
       "      <th>filtering</th>\n",
       "    </tr>\n",
       "    <tr>\n",
       "      <th>id</th>\n",
       "      <th></th>\n",
       "      <th></th>\n",
       "      <th></th>\n",
       "      <th></th>\n",
       "      <th></th>\n",
       "      <th></th>\n",
       "      <th></th>\n",
       "      <th></th>\n",
       "    </tr>\n",
       "  </thead>\n",
       "  <tbody>\n",
       "    <tr>\n",
       "      <th>1</th>\n",
       "      <td>CA1</td>\n",
       "      <td>tetrode1 pynwb.ecephys.ElectrodeGroup at 0x4678691088\\nFields:\\n  description: an example tetrode\\n  device: electrode_recorder pynwb.device.Device at 0x4678690368\\nFields:\\n  description: some kind of elven invention\\n  manufacturer: Orc industries.\\n\\n  location: somewhere in the hippocampus\\n</td>\n",
       "      <td>tetrode1</td>\n",
       "      <td>1.0</td>\n",
       "      <td>2.0</td>\n",
       "      <td>3.0</td>\n",
       "      <td>inf</td>\n",
       "      <td>none</td>\n",
       "    </tr>\n",
       "    <tr>\n",
       "      <th>2</th>\n",
       "      <td>CA1</td>\n",
       "      <td>tetrode1 pynwb.ecephys.ElectrodeGroup at 0x4678691088\\nFields:\\n  description: an example tetrode\\n  device: electrode_recorder pynwb.device.Device at 0x4678690368\\nFields:\\n  description: some kind of elven invention\\n  manufacturer: Orc industries.\\n\\n  location: somewhere in the hippocampus\\n</td>\n",
       "      <td>tetrode1</td>\n",
       "      <td>1.0</td>\n",
       "      <td>2.0</td>\n",
       "      <td>3.0</td>\n",
       "      <td>inf</td>\n",
       "      <td>none</td>\n",
       "    </tr>\n",
       "    <tr>\n",
       "      <th>3</th>\n",
       "      <td>CA1</td>\n",
       "      <td>tetrode1 pynwb.ecephys.ElectrodeGroup at 0x4678691088\\nFields:\\n  description: an example tetrode\\n  device: electrode_recorder pynwb.device.Device at 0x4678690368\\nFields:\\n  description: some kind of elven invention\\n  manufacturer: Orc industries.\\n\\n  location: somewhere in the hippocampus\\n</td>\n",
       "      <td>tetrode1</td>\n",
       "      <td>1.0</td>\n",
       "      <td>2.0</td>\n",
       "      <td>3.0</td>\n",
       "      <td>inf</td>\n",
       "      <td>none</td>\n",
       "    </tr>\n",
       "    <tr>\n",
       "      <th>4</th>\n",
       "      <td>CA1</td>\n",
       "      <td>tetrode1 pynwb.ecephys.ElectrodeGroup at 0x4678691088\\nFields:\\n  description: an example tetrode\\n  device: electrode_recorder pynwb.device.Device at 0x4678690368\\nFields:\\n  description: some kind of elven invention\\n  manufacturer: Orc industries.\\n\\n  location: somewhere in the hippocampus\\n</td>\n",
       "      <td>tetrode1</td>\n",
       "      <td>1.0</td>\n",
       "      <td>2.0</td>\n",
       "      <td>3.0</td>\n",
       "      <td>inf</td>\n",
       "      <td>none</td>\n",
       "    </tr>\n",
       "  </tbody>\n",
       "</table></details></div>"
      ],
      "text/plain": [
       "electrodes hdmf.common.table.DynamicTable at 0x4678692816\n",
       "Fields:\n",
       "  colnames: ['location' 'group' 'group_name' 'x' 'y' 'z' 'imp' 'filtering']\n",
       "  columns: (\n",
       "    location <class 'hdmf.common.table.VectorData'>,\n",
       "    group <class 'hdmf.common.table.VectorData'>,\n",
       "    group_name <class 'hdmf.common.table.VectorData'>,\n",
       "    x <class 'hdmf.common.table.VectorData'>,\n",
       "    y <class 'hdmf.common.table.VectorData'>,\n",
       "    z <class 'hdmf.common.table.VectorData'>,\n",
       "    imp <class 'hdmf.common.table.VectorData'>,\n",
       "    filtering <class 'hdmf.common.table.VectorData'>\n",
       "  )\n",
       "  description: metadata about extracellular electrodes\n",
       "  id: id <class 'hdmf.common.table.ElementIdentifiers'>"
      ]
     },
     "execution_count": 17,
     "metadata": {},
     "output_type": "execute_result"
    }
   ],
   "source": [
    "# Check the electrode table\n",
    "electrode_table_region.table"
   ]
  },
  {
   "cell_type": "markdown",
   "id": "collect-water",
   "metadata": {},
   "source": [
    "## Add time series data\n",
    "\n",
    "NWB files can also store field data, as time series. \n",
    "\n",
    "Time series data is stored in an `ElectricalSeries`, which takes:\n",
    "- name\n",
    "- data\n",
    "- timestamps or start_time & rate\n",
    "- resolution\n",
    "- description\n",
    "- comments"
   ]
  },
  {
   "cell_type": "code",
   "execution_count": 18,
   "id": "furnished-healing",
   "metadata": {},
   "outputs": [],
   "source": [
    "# Set meta data\n",
    "rate = 10.0\n",
    "\n",
    "# Simulate some example data\n",
    "data_len = 1000\n",
    "ephys_data = np.random.rand(data_len * 2).reshape((data_len, 2))\n",
    "ephys_timestamps = np.arange(data_len) / rate"
   ]
  },
  {
   "cell_type": "code",
   "execution_count": 19,
   "id": "settled-interview",
   "metadata": {},
   "outputs": [],
   "source": [
    "# Create a time series of electrophysiology data\n",
    "ephys_ts = ElectricalSeries('test_ephys_data',\n",
    "                            ephys_data,\n",
    "                            electrode_table_region,\n",
    "                            timestamps=ephys_timestamps,\n",
    "                            # Alternatively, could specify starting_time and rate as follows\n",
    "                            # starting_time=ephys_timestamps[0],\n",
    "                            # rate=rate,\n",
    "                            resolution=0.001,\n",
    "                            comments=\"This data was randomly generated with numpy, using 1234 as the seed\",\n",
    "                            description=\"Random numbers generated with numpy.random.rand\")\n",
    "\n",
    "# Add the ephys acquisition to the NWB file\n",
    "nwbfile.add_acquisition(ephys_ts)"
   ]
  },
  {
   "cell_type": "markdown",
   "id": "rotary-aluminum",
   "metadata": {},
   "source": [
    "## Add units & spike events\n",
    "\n"
   ]
  },
  {
   "cell_type": "code",
   "execution_count": 23,
   "id": "representative-pottery",
   "metadata": {},
   "outputs": [
    {
     "data": {
      "text/plain": [
       "array([ 1., 11., 16., 18., 21., 24., 36., 39., 44., 47., 51., 51., 52.,\n",
       "       55., 61., 66., 66., 68., 68., 71., 75., 78., 86., 88., 96.])"
      ]
     },
     "metadata": {},
     "output_type": "display_data"
    },
    {
     "data": {
      "text/plain": [
       "array([1., 1., 1., 1., 1., 1., 1., 1., 1., 1., 1., 1., 1., 1., 1., 1., 1.,\n",
       "       1., 1., 1., 1., 1., 1., 1., 1., 1., 1., 1., 1., 1., 1., 1., 1., 1.,\n",
       "       1., 1., 1., 1., 1., 1., 1., 1., 1., 1., 1., 1., 1., 1., 1., 1., 1.,\n",
       "       1., 1., 1., 1., 1., 1., 1., 1., 1., 1., 1., 1., 1., 1., 1., 1., 1.,\n",
       "       1., 1., 1., 1., 1., 1., 1., 1., 1., 1., 1., 1., 1., 1., 1., 1., 1.,\n",
       "       1., 1., 1., 1., 1., 1., 1., 1., 1., 1., 1., 1., 1., 1., 1.])"
      ]
     },
     "metadata": {},
     "output_type": "display_data"
    }
   ],
   "source": [
    "# Simulate some example \n",
    "spike_times = np.sort(np.random.randint(0, 100, 25)).astype('float')\n",
    "waveform = np.ones(100)\n",
    "display(spike_times)\n",
    "display(waveform)"
   ]
  },
  {
   "cell_type": "code",
   "execution_count": 20,
   "id": "hawaiian-blank",
   "metadata": {},
   "outputs": [],
   "source": [
    "# Add some units \n",
    "nwbfile.add_unit(spike_times, waveform_mean=waveform, id=1, electrodes=[0])\n",
    "nwbfile.add_unit(spike_times, waveform_mean=waveform, id=2, electrodes=[0])"
   ]
  },
  {
   "cell_type": "markdown",
   "id": "located-teacher",
   "metadata": {},
   "source": [
    "## Position Information\n",
    "\n",
    "Spatial information such as a subjects position, can be stored in a `Position` object.\n",
    "\n",
    "The `Position` object takes a name, and stores a spatial series, which takes:\n",
    "- name\n",
    "- data\n",
    "- rate\n",
    "- reference_frame\n",
    "- description"
   ]
  },
  {
   "cell_type": "code",
   "execution_count": 21,
   "id": "graphic-array",
   "metadata": {},
   "outputs": [],
   "source": [
    "# Initialize a position object for storing position data\n",
    "position = Position(name='position')"
   ]
  },
  {
   "cell_type": "code",
   "execution_count": 22,
   "id": "electric-specific",
   "metadata": {},
   "outputs": [
    {
     "data": {
      "text/plain": [
       "position1 pynwb.behavior.SpatialSeries at 0x140373255850832\n",
       "Fields:\n",
       "  comments: no comments\n",
       "  conversion: 1.0\n",
       "  data: [0.         0.05263158 0.10526316 0.15789474 0.21052632 0.26315789\n",
       " 0.31578947 0.36842105 0.42105263 0.47368421 0.52631579 0.57894737\n",
       " 0.63157895 0.68421053 0.73684211 0.78947368 0.84210526 0.89473684\n",
       " 0.94736842 1.        ]\n",
       "  description: no description\n",
       "  rate: 50.0\n",
       "  reference_frame: start point\n",
       "  resolution: -1.0\n",
       "  starting_time: 0.0\n",
       "  starting_time_unit: seconds\n",
       "  unit: meters"
      ]
     },
     "execution_count": 22,
     "metadata": {},
     "output_type": "execute_result"
    }
   ],
   "source": [
    "# Create a spatial series of information in the position object\n",
    "position.create_spatial_series(name = 'position1',\n",
    "                               data = np.linspace(0, 1, 20),\n",
    "                               rate = 50.,\n",
    "                               reference_frame='start point')"
   ]
  },
  {
   "cell_type": "code",
   "execution_count": 23,
   "id": "proof-russell",
   "metadata": {},
   "outputs": [
    {
     "data": {
      "text/plain": [
       "position pynwb.behavior.Position at 0x140373255813392\n",
       "Fields:\n",
       "  spatial_series: {\n",
       "    position1 <class 'pynwb.behavior.SpatialSeries'>\n",
       "  }"
      ]
     },
     "execution_count": 23,
     "metadata": {},
     "output_type": "execute_result"
    }
   ],
   "source": [
    "# Check the position object\n",
    "position"
   ]
  },
  {
   "cell_type": "code",
   "execution_count": 24,
   "id": "cleared-international",
   "metadata": {},
   "outputs": [],
   "source": [
    "# Add the position data the the NWB file\n",
    "nwbfile.add_acquisition(position)"
   ]
  },
  {
   "cell_type": "markdown",
   "id": "active-alberta",
   "metadata": {},
   "source": [
    "## Event Information\n",
    "\n",
    "Event information can also be added to the NWB file.\n",
    "\n",
    "For example, an `epoch` can be added, defining a start and stop time, with associated tags. "
   ]
  },
  {
   "cell_type": "code",
   "execution_count": 25,
   "id": "alike-involvement",
   "metadata": {},
   "outputs": [],
   "source": [
    "# Add an epoch marker to the NWB file\n",
    "nwbfile.add_epoch(start_time=0., stop_time=10., tags=['Experiment Block'])"
   ]
  },
  {
   "cell_type": "markdown",
   "id": "substantial-academy",
   "metadata": {},
   "source": [
    "Trials can also similarly be added to the NWB file. \n",
    "\n",
    "In order to define events of interest, the `add_trial_column` method can be used to define fields of interest. \n",
    "\n",
    "After event fields are defined, trials can be added to the event, defining values for the start and end of the trial, as well as for any defined fields of interest. "
   ]
  },
  {
   "cell_type": "code",
   "execution_count": 26,
   "id": "retained-draft",
   "metadata": {},
   "outputs": [],
   "source": [
    "# Add a field to the event trial structure for the response time\n",
    "nwbfile.add_trial_column('response_time', 'Time when response is given.')"
   ]
  },
  {
   "cell_type": "code",
   "execution_count": 27,
   "id": "exposed-surgeon",
   "metadata": {},
   "outputs": [],
   "source": [
    "# Add some trials to the NWB file\n",
    "nwbfile.add_trial(start_time=1.5, response_time=2.25, stop_time=3.0)\n",
    "nwbfile.add_trial(start_time=3.5, response_time=4.75, stop_time=5.0)"
   ]
  },
  {
   "cell_type": "markdown",
   "id": "visible-peninsula",
   "metadata": {},
   "source": [
    "### Stimuli\n",
    "\n",
    "Stimulu can also be added to the NWB file. \n",
    "\n",
    "For example, we can add a series of images to the file. "
   ]
  },
  {
   "cell_type": "code",
   "execution_count": 28,
   "id": "excellent-workshop",
   "metadata": {},
   "outputs": [],
   "source": [
    "# Create dummy images, as simulated stimuli\n",
    "img = np.ones(shape=[3, 3, 3])\n",
    "stimuli = ImageSeries('test', [img, img], rate=1., unit='RGB')"
   ]
  },
  {
   "cell_type": "code",
   "execution_count": 29,
   "id": "little-orleans",
   "metadata": {},
   "outputs": [],
   "source": [
    "# Add stimuli to the NWB file\n",
    "nwbfile.add_stimulus(stimuli)"
   ]
  },
  {
   "cell_type": "markdown",
   "id": "starting-bottle",
   "metadata": {},
   "source": [
    "## Check File"
   ]
  },
  {
   "cell_type": "code",
   "execution_count": 30,
   "id": "requested-status",
   "metadata": {},
   "outputs": [
    {
     "data": {
      "text/plain": [
       "root pynwb.file.NWBFile at 0x140373220851776\n",
       "Fields:\n",
       "  acquisition: {\n",
       "    position <class 'pynwb.behavior.Position'>,\n",
       "    test_ephys_data <class 'pynwb.ecephys.ElectricalSeries'>\n",
       "  }\n",
       "  devices: {\n",
       "    electrode_recorder <class 'pynwb.device.Device'>\n",
       "  }\n",
       "  electrode_groups: {\n",
       "    tetrode1 <class 'pynwb.ecephys.ElectrodeGroup'>\n",
       "  }\n",
       "  electrodes: electrodes <class 'hdmf.common.table.DynamicTable'>\n",
       "  epoch_tags: {\n",
       "    Experiment Block\n",
       "  }\n",
       "  epochs: epochs <class 'pynwb.epoch.TimeIntervals'>\n",
       "  experiment_description: I went on an adventure with thirteen dwarves to reclaim vast treasures.\n",
       "  experimenter: ['Dr. Bilbo Baggins']\n",
       "  file_create_date: [datetime.datetime(2021, 5, 10, 0, 4, 26, 725809, tzinfo=tzlocal())]\n",
       "  identifier: EXAMPLE_ID\n",
       "  institution: University of Middle Earth at the Shire\n",
       "  lab: Bag End Laboratory\n",
       "  session_description: my first synthetic recording\n",
       "  session_id: LONELYMTN\n",
       "  session_start_time: 2021-05-10 00:04:26.718356-04:00\n",
       "  stimulus: {\n",
       "    test <class 'pynwb.image.ImageSeries'>\n",
       "  }\n",
       "  subject: subject pynwb.file.Subject at 0x140373255642608\n",
       "Fields:\n",
       "  age: 1000\n",
       "  description: A magical being.\n",
       "  sex: Male\n",
       "  species: elf\n",
       "  subject_id: 001\n",
       "\n",
       "  timestamps_reference_time: 2021-05-10 00:04:26.718356-04:00\n",
       "  trials: trials <class 'pynwb.epoch.TimeIntervals'>\n",
       "  units: units <class 'pynwb.misc.Units'>"
      ]
     },
     "execution_count": 30,
     "metadata": {},
     "output_type": "execute_result"
    }
   ],
   "source": [
    "# Check out the details of the example NWB file\n",
    "nwbfile"
   ]
  },
  {
   "cell_type": "markdown",
   "id": "identical-sweet",
   "metadata": {},
   "source": [
    "### Save out test file"
   ]
  },
  {
   "cell_type": "code",
   "execution_count": 31,
   "id": "working-advisory",
   "metadata": {},
   "outputs": [],
   "source": [
    "# Save out an example NWB file\n",
    "with NWBHDF5IO(data_path + '/nwb_single_neurons.nwb', 'w') as io:\n",
    "    io.write(nwbfile)"
   ]
  }
 ],
 "metadata": {
  "kernelspec": {
   "display_name": "Python 3 (ipykernel)",
   "language": "python",
   "name": "python3"
  },
  "language_info": {
   "codemirror_mode": {
    "name": "ipython",
    "version": 3
   },
   "file_extension": ".py",
   "mimetype": "text/x-python",
   "name": "python",
   "nbconvert_exporter": "python",
   "pygments_lexer": "ipython3",
   "version": "3.9.6"
  }
 },
 "nbformat": 4,
 "nbformat_minor": 5
}
