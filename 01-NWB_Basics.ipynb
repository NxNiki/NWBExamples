{
 "cells": [
  {
   "cell_type": "markdown",
   "id": "nearby-amino",
   "metadata": {},
   "source": [
    "# NWB File Examples\n",
    "\n",
    "This example introduces the NWB file format, creating an example datafile with dummy data.\n",
    "\n",
    "This example is adapted from: https://pynwb.readthedocs.io/en/stable/tutorials/general/file.html\n",
    "\n",
    "This example uses [pynwb](https://github.com/NeurodataWithoutBorders/pynwb), the Python tool for interacting with NWB files."
   ]
  },
  {
   "cell_type": "code",
   "execution_count": 1,
   "id": "unlike-inside",
   "metadata": {},
   "outputs": [],
   "source": [
    "%config Completer.use_jedi = False"
   ]
  },
  {
   "cell_type": "code",
   "execution_count": 2,
   "id": "early-fraction",
   "metadata": {},
   "outputs": [],
   "source": [
    "import os\n",
    "from datetime import datetime\n",
    "from dateutil.tz import tzlocal\n",
    "\n",
    "import numpy as np\n",
    "\n",
    "# Import utilities from pynwb\n",
    "from pynwb import NWBFile, NWBHDF5IO, TimeSeries"
   ]
  },
  {
   "cell_type": "markdown",
   "id": "separated-elevation",
   "metadata": {},
   "source": [
    "## Settings"
   ]
  },
  {
   "cell_type": "code",
   "execution_count": 3,
   "id": "sonic-monkey",
   "metadata": {},
   "outputs": [],
   "source": [
    "# Set path for data files\n",
    "data_path = 'data'"
   ]
  },
  {
   "cell_type": "markdown",
   "id": "federal-antique",
   "metadata": {},
   "source": [
    "## Initialize an NWB File\n",
    "\n",
    "NWB files are a file specification for [HDF5 files](https://www.hdfgroup.org/solutions/hdf5/).\n",
    "\n",
    "HDF5 files are a file format defined for large and/or heterogenous data. \n",
    "\n",
    "To get started initializing a HDF5 file, we can `NWBFile` function. "
   ]
  },
  {
   "cell_type": "code",
   "execution_count": 4,
   "id": "unlike-opportunity",
   "metadata": {},
   "outputs": [],
   "source": [
    "# Get local timezone\n",
    "timezone = tzlocal() \n",
    "\n",
    "# Set time zone information\n",
    "start_time = datetime(2021, 3, 20, tzinfo=tzlocal())\n",
    "create_date = datetime(2021, 3, 20, tzinfo=tzlocal())"
   ]
  },
  {
   "cell_type": "code",
   "execution_count": 5,
   "id": "historic-prediction",
   "metadata": {},
   "outputs": [],
   "source": [
    "# Define some metadata for the file\n",
    "session_info = 'NWBFile test'\n",
    "session_id = 'NWB123'"
   ]
  },
  {
   "cell_type": "code",
   "execution_count": 6,
   "id": "centered-knight",
   "metadata": {},
   "outputs": [],
   "source": [
    "# Initialize an NWB file\n",
    "nwbfile = NWBFile(session_description=session_info,\n",
    "                  identifier=session_id,\n",
    "                  session_start_time=start_time,\n",
    "                  file_create_date=create_date)"
   ]
  },
  {
   "cell_type": "markdown",
   "id": "through-truth",
   "metadata": {},
   "source": [
    "## Add Data to NWB File"
   ]
  },
  {
   "cell_type": "code",
   "execution_count": 9,
   "id": "classical-contribution",
   "metadata": {},
   "outputs": [],
   "source": [
    "# Create some dummy test data\n",
    "data = np.arange(100, 200, 10)\n",
    "timestamps = np.arange(10.)"
   ]
  },
  {
   "cell_type": "code",
   "execution_count": 10,
   "id": "varied-vegetation",
   "metadata": {},
   "outputs": [],
   "source": [
    "# Create dummy time series object\n",
    "test_ts = TimeSeries(name='test_timeseries', data=data, unit='m', timestamps=timestamps)"
   ]
  },
  {
   "cell_type": "code",
   "execution_count": 11,
   "id": "improved-procurement",
   "metadata": {},
   "outputs": [],
   "source": [
    "# Add the dummy time series as an acquisition element\n",
    "nwbfile.add_acquisition(test_ts)"
   ]
  },
  {
   "cell_type": "code",
   "execution_count": 12,
   "id": "grateful-performer",
   "metadata": {},
   "outputs": [
    {
     "data": {
      "text/html": [
       "\n",
       "        <style>\n",
       "            .container-fields {\n",
       "                font-family: \"Open Sans\", Arial, sans-serif;\n",
       "            }\n",
       "            .container-fields .field-value {\n",
       "                color: #00788E;\n",
       "            }\n",
       "            .container-fields details > summary {\n",
       "                cursor: pointer;\n",
       "                display: list-item;\n",
       "            }\n",
       "            .container-fields details > summary:hover {\n",
       "                color: #0A6EAA;\n",
       "            }\n",
       "        </style>\n",
       "        \n",
       "        <script>\n",
       "            function copyToClipboard(text) {\n",
       "                navigator.clipboard.writeText(text).then(function() {\n",
       "                    console.log('Copied to clipboard: ' + text);\n",
       "                }, function(err) {\n",
       "                    console.error('Could not copy text: ', err);\n",
       "                });\n",
       "            }\n",
       "\n",
       "            document.addEventListener('DOMContentLoaded', function() {\n",
       "                let fieldKeys = document.querySelectorAll('.container-fields .field-key');\n",
       "                fieldKeys.forEach(function(fieldKey) {\n",
       "                    fieldKey.addEventListener('click', function() {\n",
       "                        let accessCode = fieldKey.getAttribute('title').replace('Access code: ', '');\n",
       "                        copyToClipboard(accessCode);\n",
       "                    });\n",
       "                });\n",
       "            });\n",
       "        </script>\n",
       "        <div class='container-wrap'><div class='container-header'><div class='xr-obj-type'><h3>test_timeseries (TimeSeries)</h3></div></div><div style=\"margin-left: 0px;\" class=\"container-fields\"><span class=\"field-key\" title=\".resolution\">resolution: </span><span class=\"field-value\">-1.0</span></div><div style=\"margin-left: 0px;\" class=\"container-fields\"><span class=\"field-key\" title=\".comments\">comments: </span><span class=\"field-value\">no comments</span></div><div style=\"margin-left: 0px;\" class=\"container-fields\"><span class=\"field-key\" title=\".description\">description: </span><span class=\"field-value\">no description</span></div><div style=\"margin-left: 0px;\" class=\"container-fields\"><span class=\"field-key\" title=\".conversion\">conversion: </span><span class=\"field-value\">1.0</span></div><div style=\"margin-left: 0px;\" class=\"container-fields\"><span class=\"field-key\" title=\".offset\">offset: </span><span class=\"field-value\">0.0</span></div><div style=\"margin-left: 0px;\" class=\"container-fields\"><span class=\"field-key\" title=\".unit\">unit: </span><span class=\"field-value\">m</span></div><details><summary style=\"display: list-item; margin-left: 0px;\" class=\"container-fields field-key\" title=\".data\"><b>data</b></summary><div style=\"margin-left: 20px;\" class=\"container-fields\">[100 110 120 130 140 150 160 170 180 190]</div></details><details><summary style=\"display: list-item; margin-left: 0px;\" class=\"container-fields field-key\" title=\".timestamps\"><b>timestamps</b></summary><div style=\"margin-left: 20px;\" class=\"container-fields\">[0. 1. 2. 3. 4. 5. 6. 7. 8. 9.]</div></details><div style=\"margin-left: 0px;\" class=\"container-fields\"><span class=\"field-key\" title=\".timestamps_unit\">timestamps_unit: </span><span class=\"field-value\">seconds</span></div><div style=\"margin-left: 0px;\" class=\"container-fields\"><span class=\"field-key\" title=\".interval\">interval: </span><span class=\"field-value\">1</span></div></div>"
      ],
      "text/plain": [
       "test_timeseries pynwb.base.TimeSeries at 0x5101799312\n",
       "Fields:\n",
       "  comments: no comments\n",
       "  conversion: 1.0\n",
       "  data: [100 110 120 130 140 150 160 170 180 190]\n",
       "  description: no description\n",
       "  interval: 1\n",
       "  offset: 0.0\n",
       "  resolution: -1.0\n",
       "  timestamps: [0. 1. 2. 3. 4. 5. 6. 7. 8. 9.]\n",
       "  timestamps_unit: seconds\n",
       "  unit: m"
      ]
     },
     "execution_count": 12,
     "metadata": {},
     "output_type": "execute_result"
    }
   ],
   "source": [
    "# Check the acquisition element\n",
    "nwbfile.acquisition['test_timeseries']"
   ]
  },
  {
   "cell_type": "code",
   "execution_count": 17,
   "id": "juvenile-basic",
   "metadata": {},
   "outputs": [
    {
     "data": {
      "text/html": [
       "\n",
       "        <style>\n",
       "            .container-fields {\n",
       "                font-family: \"Open Sans\", Arial, sans-serif;\n",
       "            }\n",
       "            .container-fields .field-value {\n",
       "                color: #00788E;\n",
       "            }\n",
       "            .container-fields details > summary {\n",
       "                cursor: pointer;\n",
       "                display: list-item;\n",
       "            }\n",
       "            .container-fields details > summary:hover {\n",
       "                color: #0A6EAA;\n",
       "            }\n",
       "        </style>\n",
       "        \n",
       "        <script>\n",
       "            function copyToClipboard(text) {\n",
       "                navigator.clipboard.writeText(text).then(function() {\n",
       "                    console.log('Copied to clipboard: ' + text);\n",
       "                }, function(err) {\n",
       "                    console.error('Could not copy text: ', err);\n",
       "                });\n",
       "            }\n",
       "\n",
       "            document.addEventListener('DOMContentLoaded', function() {\n",
       "                let fieldKeys = document.querySelectorAll('.container-fields .field-key');\n",
       "                fieldKeys.forEach(function(fieldKey) {\n",
       "                    fieldKey.addEventListener('click', function() {\n",
       "                        let accessCode = fieldKey.getAttribute('title').replace('Access code: ', '');\n",
       "                        copyToClipboard(accessCode);\n",
       "                    });\n",
       "                });\n",
       "            });\n",
       "        </script>\n",
       "        <div class='container-wrap'><div class='container-header'><div class='xr-obj-type'><h3>test_timeseries (TimeSeries)</h3></div></div><div style=\"margin-left: 0px;\" class=\"container-fields\"><span class=\"field-key\" title=\".resolution\">resolution: </span><span class=\"field-value\">-1.0</span></div><div style=\"margin-left: 0px;\" class=\"container-fields\"><span class=\"field-key\" title=\".comments\">comments: </span><span class=\"field-value\">no comments</span></div><div style=\"margin-left: 0px;\" class=\"container-fields\"><span class=\"field-key\" title=\".description\">description: </span><span class=\"field-value\">no description</span></div><div style=\"margin-left: 0px;\" class=\"container-fields\"><span class=\"field-key\" title=\".conversion\">conversion: </span><span class=\"field-value\">1.0</span></div><div style=\"margin-left: 0px;\" class=\"container-fields\"><span class=\"field-key\" title=\".offset\">offset: </span><span class=\"field-value\">0.0</span></div><div style=\"margin-left: 0px;\" class=\"container-fields\"><span class=\"field-key\" title=\".unit\">unit: </span><span class=\"field-value\">m</span></div><details><summary style=\"display: list-item; margin-left: 0px;\" class=\"container-fields field-key\" title=\".data\"><b>data</b></summary><div style=\"margin-left: 20px;\" class=\"container-fields\">[100 110 120 130 140 150 160 170 180 190]</div></details><details><summary style=\"display: list-item; margin-left: 0px;\" class=\"container-fields field-key\" title=\".timestamps\"><b>timestamps</b></summary><div style=\"margin-left: 20px;\" class=\"container-fields\">[0. 1. 2. 3. 4. 5. 6. 7. 8. 9.]</div></details><div style=\"margin-left: 0px;\" class=\"container-fields\"><span class=\"field-key\" title=\".timestamps_unit\">timestamps_unit: </span><span class=\"field-value\">seconds</span></div><div style=\"margin-left: 0px;\" class=\"container-fields\"><span class=\"field-key\" title=\".interval\">interval: </span><span class=\"field-value\">1</span></div></div>"
      ],
      "text/plain": [
       "test_timeseries pynwb.base.TimeSeries at 0x5101799312\n",
       "Fields:\n",
       "  comments: no comments\n",
       "  conversion: 1.0\n",
       "  data: [100 110 120 130 140 150 160 170 180 190]\n",
       "  description: no description\n",
       "  interval: 1\n",
       "  offset: 0.0\n",
       "  resolution: -1.0\n",
       "  timestamps: [0. 1. 2. 3. 4. 5. 6. 7. 8. 9.]\n",
       "  timestamps_unit: seconds\n",
       "  unit: m"
      ]
     },
     "execution_count": 17,
     "metadata": {},
     "output_type": "execute_result"
    }
   ],
   "source": [
    "# Get the newly added acquisition\n",
    "test_acq = nwbfile.get_acquisition('test_timeseries')\n",
    "test_acq"
   ]
  },
  {
   "cell_type": "markdown",
   "id": "brilliant-differential",
   "metadata": {},
   "source": [
    "## Save out NWB File"
   ]
  },
  {
   "cell_type": "code",
   "execution_count": 18,
   "id": "positive-concert",
   "metadata": {},
   "outputs": [],
   "source": [
    "# Save out an example NWB file\n",
    "with NWBHDF5IO('data/nwb_basics.nwb', 'w') as io:\n",
    "    io.write(nwbfile)"
   ]
  },
  {
   "cell_type": "code",
   "execution_count": 21,
   "id": "present-adjustment",
   "metadata": {},
   "outputs": [
    {
     "name": "stdout",
     "output_type": "stream",
     "text": [
      "['nwb_basics.nwb']\n"
     ]
    }
   ],
   "source": [
    "# Check for saved out NWB files\n",
    "nwb_files = [file for file in os.listdir('./data/') if file.split('.')[-1] == 'nwb']\n",
    "print(nwb_files)"
   ]
  },
  {
   "cell_type": "markdown",
   "id": "minor-holder",
   "metadata": {},
   "source": [
    "## Validating NWB Files\n",
    "\n",
    "NWB has utilities to validate NWB files.\n",
    "\n",
    "More information: https://pynwb.readthedocs.io/en/stable/validation.html"
   ]
  },
  {
   "cell_type": "code",
   "execution_count": 23,
   "id": "arabic-greensboro",
   "metadata": {},
   "outputs": [
    {
     "name": "stdout",
     "output_type": "stream",
     "text": [
      "/Library/Developer/CommandLineTools/Library/Frameworks/Python3.framework/Versions/3.9/lib/python3.9/runpy.py:127: RuntimeWarning: 'pynwb.validate' found in sys.modules after import of package 'pynwb', but prior to execution of 'pynwb.validate'; this may result in unpredictable behaviour\n",
      "  warn(RuntimeWarning(msg))\n",
      "Validating data/nwb_basics.nwb against cached namespace information using namespace 'core'.\n",
      " - no errors found.\n"
     ]
    }
   ],
   "source": [
    "# Run command line tool to validate NWB file\n",
    "!python -m pynwb.validate data/nwb_basics.nwb"
   ]
  },
  {
   "cell_type": "markdown",
   "id": "statistical-utility",
   "metadata": {},
   "source": [
    "## Read in NWB File"
   ]
  },
  {
   "cell_type": "code",
   "execution_count": 24,
   "id": "suburban-matrix",
   "metadata": {},
   "outputs": [],
   "source": [
    "# Read in an example NWB file\n",
    "io = NWBHDF5IO('data/nwb_basics.nwb', 'r')\n",
    "nwbfile_in = io.read()"
   ]
  },
  {
   "cell_type": "code",
   "execution_count": 25,
   "id": "major-pulse",
   "metadata": {},
   "outputs": [
    {
     "data": {
      "text/html": [
       "\n",
       "        <style>\n",
       "            .container-fields {\n",
       "                font-family: \"Open Sans\", Arial, sans-serif;\n",
       "            }\n",
       "            .container-fields .field-value {\n",
       "                color: #00788E;\n",
       "            }\n",
       "            .container-fields details > summary {\n",
       "                cursor: pointer;\n",
       "                display: list-item;\n",
       "            }\n",
       "            .container-fields details > summary:hover {\n",
       "                color: #0A6EAA;\n",
       "            }\n",
       "        </style>\n",
       "        \n",
       "        <script>\n",
       "            function copyToClipboard(text) {\n",
       "                navigator.clipboard.writeText(text).then(function() {\n",
       "                    console.log('Copied to clipboard: ' + text);\n",
       "                }, function(err) {\n",
       "                    console.error('Could not copy text: ', err);\n",
       "                });\n",
       "            }\n",
       "\n",
       "            document.addEventListener('DOMContentLoaded', function() {\n",
       "                let fieldKeys = document.querySelectorAll('.container-fields .field-key');\n",
       "                fieldKeys.forEach(function(fieldKey) {\n",
       "                    fieldKey.addEventListener('click', function() {\n",
       "                        let accessCode = fieldKey.getAttribute('title').replace('Access code: ', '');\n",
       "                        copyToClipboard(accessCode);\n",
       "                    });\n",
       "                });\n",
       "            });\n",
       "        </script>\n",
       "        <div class='container-wrap'><div class='container-header'><div class='xr-obj-type'><h3>root (NWBFile)</h3></div></div><div style=\"margin-left: 0px;\" class=\"container-fields\"><span class=\"field-key\" title=\".session_description\">session_description: </span><span class=\"field-value\">NWBFile test</span></div><div style=\"margin-left: 0px;\" class=\"container-fields\"><span class=\"field-key\" title=\".identifier\">identifier: </span><span class=\"field-value\">NWB123</span></div><details><summary style=\"display: list-item; margin-left: 0px;\" class=\"container-fields field-key\" title=\".session_start_time\"><b>session_start_time</b></summary><span class=\"field-key\">2021-03-20 00:00:00-07:00</span></details><details><summary style=\"display: list-item; margin-left: 0px;\" class=\"container-fields field-key\" title=\".timestamps_reference_time\"><b>timestamps_reference_time</b></summary><span class=\"field-key\">2021-03-20 00:00:00-07:00</span></details><details><summary style=\"display: list-item; margin-left: 0px;\" class=\"container-fields field-key\" title=\".file_create_date\"><b>file_create_date</b></summary><details><summary style=\"display: list-item; margin-left: 20px;\" class=\"container-fields field-key\" title=\".file_create_date[0]\"><b>0</b></summary><span class=\"field-key\">2021-03-20 00:00:00-07:00</span></details></details><details><summary style=\"display: list-item; margin-left: 0px;\" class=\"container-fields field-key\" title=\".acquisition\"><b>acquisition</b></summary><details><summary style=\"display: list-item; margin-left: 20px;\" class=\"container-fields field-key\" title=\".acquisition['test_timeseries']\"><b>test_timeseries</b></summary><div style=\"margin-left: 40px;\" class=\"container-fields\"><span class=\"field-key\" title=\".acquisition['test_timeseries'].resolution\">resolution: </span><span class=\"field-value\">-1.0</span></div><div style=\"margin-left: 40px;\" class=\"container-fields\"><span class=\"field-key\" title=\".acquisition['test_timeseries'].comments\">comments: </span><span class=\"field-value\">no comments</span></div><div style=\"margin-left: 40px;\" class=\"container-fields\"><span class=\"field-key\" title=\".acquisition['test_timeseries'].description\">description: </span><span class=\"field-value\">no description</span></div><div style=\"margin-left: 40px;\" class=\"container-fields\"><span class=\"field-key\" title=\".acquisition['test_timeseries'].conversion\">conversion: </span><span class=\"field-value\">1.0</span></div><div style=\"margin-left: 40px;\" class=\"container-fields\"><span class=\"field-key\" title=\".acquisition['test_timeseries'].offset\">offset: </span><span class=\"field-value\">0.0</span></div><div style=\"margin-left: 40px;\" class=\"container-fields\"><span class=\"field-key\" title=\".acquisition['test_timeseries'].unit\">unit: </span><span class=\"field-value\">m</span></div><details><summary style=\"display: list-item; margin-left: 40px;\" class=\"container-fields field-key\" title=\".acquisition['test_timeseries'].data\"><b>data</b></summary></details><details><summary style=\"display: list-item; margin-left: 40px;\" class=\"container-fields field-key\" title=\".acquisition['test_timeseries'].timestamps\"><b>timestamps</b></summary></details><div style=\"margin-left: 40px;\" class=\"container-fields\"><span class=\"field-key\" title=\".acquisition['test_timeseries'].timestamps_unit\">timestamps_unit: </span><span class=\"field-value\">seconds</span></div><div style=\"margin-left: 40px;\" class=\"container-fields\"><span class=\"field-key\" title=\".acquisition['test_timeseries'].interval\">interval: </span><span class=\"field-value\">1</span></div></details></details><details><summary style=\"display: list-item; margin-left: 0px;\" class=\"container-fields field-key\" title=\".epoch_tags\"><b>epoch_tags</b></summary><span class=\"field-key\">set()</span></details></div>"
      ],
      "text/plain": [
       "root pynwb.file.NWBFile at 0x4399159088\n",
       "Fields:\n",
       "  acquisition: {\n",
       "    test_timeseries <class 'pynwb.base.TimeSeries'>\n",
       "  }\n",
       "  file_create_date: [datetime.datetime(2021, 3, 20, 0, 0, tzinfo=tzoffset(None, -25200))]\n",
       "  identifier: NWB123\n",
       "  session_description: NWBFile test\n",
       "  session_start_time: 2021-03-20 00:00:00-07:00\n",
       "  timestamps_reference_time: 2021-03-20 00:00:00-07:00"
      ]
     },
     "execution_count": 25,
     "metadata": {},
     "output_type": "execute_result"
    }
   ],
   "source": [
    "# Check the overview information of our example file\n",
    "nwbfile_in"
   ]
  },
  {
   "cell_type": "code",
   "execution_count": 26,
   "id": "primary-hardwood",
   "metadata": {},
   "outputs": [],
   "source": [
    "# Extract an example data object\n",
    "test_ts_in = nwbfile_in.acquisition['test_timeseries']"
   ]
  },
  {
   "cell_type": "code",
   "execution_count": 27,
   "id": "bridal-monster",
   "metadata": {},
   "outputs": [
    {
     "name": "stdout",
     "output_type": "stream",
     "text": [
      "test_timeseries pynwb.base.TimeSeries at 0x5111399328\n",
      "Fields:\n",
      "  comments: no comments\n",
      "  conversion: 1.0\n",
      "  data: <HDF5 dataset \"data\": shape (10,), type \"<i8\">\n",
      "  description: no description\n",
      "  interval: 1\n",
      "  offset: 0.0\n",
      "  resolution: -1.0\n",
      "  timestamps: <HDF5 dataset \"timestamps\": shape (10,), type \"<f8\">\n",
      "  timestamps_unit: seconds\n",
      "  unit: m\n",
      "\n"
     ]
    }
   ],
   "source": [
    "# Check the example data object\n",
    "print(test_ts_in)"
   ]
  },
  {
   "cell_type": "code",
   "execution_count": 28,
   "id": "flexible-testament",
   "metadata": {},
   "outputs": [],
   "source": [
    "# Close the file reader\n",
    "io.close()"
   ]
  },
  {
   "cell_type": "code",
   "execution_count": null,
   "id": "7d245f16-1b71-47ac-813d-6f71bf47894c",
   "metadata": {},
   "outputs": [],
   "source": []
  }
 ],
 "metadata": {
  "kernelspec": {
   "display_name": "Python 3 (ipykernel)",
   "language": "python",
   "name": "python3"
  },
  "language_info": {
   "codemirror_mode": {
    "name": "ipython",
    "version": 3
   },
   "file_extension": ".py",
   "mimetype": "text/x-python",
   "name": "python",
   "nbconvert_exporter": "python",
   "pygments_lexer": "ipython3",
   "version": "3.9.6"
  }
 },
 "nbformat": 4,
 "nbformat_minor": 5
}
